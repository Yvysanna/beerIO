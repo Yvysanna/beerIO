{
 "cells": [
  {
   "cell_type": "code",
   "execution_count": 126,
   "metadata": {},
   "outputs": [],
   "source": [
    "import pandas as pd\n",
    "import torch\n",
    "import torch.nn as nn\n",
    "import torch.optim as optim\n",
    "import numpy as np\n",
    "from sklearn.preprocessing import LabelEncoder # For creating labels for unimportant data\n",
    "from sklearn.discriminant_analysis import LinearDiscriminantAnalysis\n",
    "from sklearn.model_selection import train_test_split\n",
    "import category_encoders as ce # For categorizing important string values into numeric values"
   ]
  },
  {
   "cell_type": "code",
   "execution_count": 198,
   "metadata": {},
   "outputs": [],
   "source": [
    "# Load the df_encodedset using Pandas\n",
    "data = pd.read_csv('data/final_data.csv')"
   ]
  },
  {
   "cell_type": "code",
   "execution_count": 199,
   "metadata": {},
   "outputs": [],
   "source": [
    "def fill_nan_based_on_types(series):\n",
    "    column_name = series.name  # Get the name of the current column\n",
    "    if column_name == 'hex_color':\n",
    "        return series.fillna('000000')  # Fill with hex color code\n",
    "    elif series.dtype == 'O':  # Check if dtype is object (text)\n",
    "        return series.fillna('Not Available')  # Placeholder for object dtype\n",
    "    elif pd.api.types.is_integer_dtype(series.dtype):  # Check if dtype is integer\n",
    "        return series.astype('float64').fillna(-1000.0)\n",
    "    elif pd.api.types.is_float_dtype(series.dtype):  # Check if dtype is integer\n",
    "        return series.fillna(-1000.0)  # Placeholder for integer dtype\n",
    "    return series"
   ]
  },
  {
   "cell_type": "code",
   "execution_count": 200,
   "metadata": {},
   "outputs": [],
   "source": [
    "data = data.apply(fill_nan_based_on_types)\n",
    "data['beer_style'] = pd.factorize(data['beer_style'])[0]"
   ]
  },
  {
   "cell_type": "code",
   "execution_count": 201,
   "metadata": {},
   "outputs": [],
   "source": [
    "clean_data = data[['abv', 'hex_color', 'ABV', 'Min IBU', 'Max IBU', 'Astringency', 'Body', 'Alcohol', 'Bitter', 'Sweet', 'Sour', 'Salty', 'Fruits', 'Hoppy', 'Spices', 'Malty', 'beer_style']]"
   ]
  },
  {
   "cell_type": "code",
   "execution_count": 202,
   "metadata": {},
   "outputs": [],
   "source": [
    "# Filter the DataFrame for rows where no color code available\n",
    "df_to_apply = clean_data[clean_data['hex_color'] == '000000']\n",
    "\n",
    "\n",
    "# Filter the DataFrame for rows where color code available\n",
    "df_complete = clean_data[clean_data['hex_color'] != '000000']"
   ]
  },
  {
   "cell_type": "markdown",
   "metadata": {},
   "source": [
    "#### Observation -> we have 39 Color Classes to train with and 89 beer styles\n",
    "\n",
    "\n",
    "```python\n",
    "Colors: ['FFD878', '36080A', 'D77200', 'FFBF42', 'B54C00', 'F8A600',\n",
    "       '952D00', 'C35900', 'FBB123', 'A13700', 'B04500', 'CB6200',\n",
    "       'BB5100', '600903', '9B3200', 'DE7C00', '5E0B00', '660D00',\n",
    "       'CF6900', 'EA8F00', 'E58500', '470606', 'FFE699', '3B0607',\n",
    "       'F39C00', '7B1A00', '3F0708', 'FFCA5A', '882300', '520907',\n",
    "       '8E2900', 'A63E00', '5A0A02', '6A0E00', '701400', '440607',\n",
    "       '771900', '4C0505', '821E00']\n",
    "\n",
    "\n",
    "print(f'We have {len(df_complete.hex_color.unique())} classes for the training')\n",
    "df_complete.hex_color.unique()\n",
    "```"
   ]
  },
  {
   "cell_type": "markdown",
   "metadata": {},
   "source": [
    "### Now I prepare the training set into training and test data: "
   ]
  },
  {
   "cell_type": "markdown",
   "metadata": {},
   "source": [
    "## Tree"
   ]
  },
  {
   "cell_type": "code",
   "execution_count": 205,
   "metadata": {},
   "outputs": [
    {
     "name": "stdout",
     "output_type": "stream",
     "text": [
      "Accuracy: 0.70\n",
      "Classification Report:\n",
      "              precision    recall  f1-score   support\n",
      "\n",
      "      36080A       0.81      0.96      0.88        23\n",
      "      3B0607       0.79      1.00      0.88        11\n",
      "      3F0708       0.33      0.33      0.33         3\n",
      "      440607       0.00      0.00      0.00         1\n",
      "      470606       1.00      1.00      1.00        27\n",
      "      520907       1.00      1.00      1.00         2\n",
      "      5A0A02       0.00      0.00      0.00         1\n",
      "      5E0B00       1.00      1.00      1.00         8\n",
      "      600903       0.08      0.04      0.05        25\n",
      "      660D00       0.00      0.00      0.00         2\n",
      "      701400       1.00      0.50      0.67         2\n",
      "      771900       0.50      1.00      0.67         1\n",
      "      7B1A00       0.00      0.00      0.00         4\n",
      "      882300       0.50      0.64      0.56        11\n",
      "      8E2900       0.71      0.77      0.74        13\n",
      "      952D00       1.00      0.67      0.80        21\n",
      "      9B3200       1.00      0.94      0.97        16\n",
      "      A13700       1.00      1.00      1.00        17\n",
      "      A63E00       1.00      1.00      1.00         3\n",
      "      B04500       0.86      1.00      0.92        30\n",
      "      B54C00       0.63      0.40      0.49        47\n",
      "      BB5100       0.97      0.94      0.95        31\n",
      "      C35900       1.00      0.80      0.89         5\n",
      "      CB6200       0.66      0.61      0.63        51\n",
      "      CF6900       0.50      0.63      0.56        81\n",
      "      D77200       0.88      0.95      0.91        22\n",
      "      DE7C00       0.34      0.46      0.39        41\n",
      "      E58500       0.44      0.52      0.48        23\n",
      "      EA8F00       1.00      0.67      0.80         6\n",
      "      F39C00       0.52      0.42      0.47        40\n",
      "      F8A600       0.86      0.86      0.86        44\n",
      "      FBB123       0.54      0.62      0.58        21\n",
      "      FFBF42       0.62      0.69      0.66        29\n",
      "      FFCA5A       0.89      0.91      0.90        70\n",
      "      FFD878       0.83      0.62      0.71         8\n",
      "      FFE699       0.00      0.00      0.00         2\n",
      "\n",
      "    accuracy                           0.70       742\n",
      "   macro avg       0.65      0.64      0.63       742\n",
      "weighted avg       0.69      0.70      0.69       742\n",
      "\n"
     ]
    },
    {
     "name": "stderr",
     "output_type": "stream",
     "text": [
      "/opt/homebrew/lib/python3.11/site-packages/sklearn/metrics/_classification.py:1469: UndefinedMetricWarning: Precision and F-score are ill-defined and being set to 0.0 in labels with no predicted samples. Use `zero_division` parameter to control this behavior.\n",
      "  _warn_prf(average, modifier, msg_start, len(result))\n",
      "/opt/homebrew/lib/python3.11/site-packages/sklearn/metrics/_classification.py:1469: UndefinedMetricWarning: Precision and F-score are ill-defined and being set to 0.0 in labels with no predicted samples. Use `zero_division` parameter to control this behavior.\n",
      "  _warn_prf(average, modifier, msg_start, len(result))\n",
      "/opt/homebrew/lib/python3.11/site-packages/sklearn/metrics/_classification.py:1469: UndefinedMetricWarning: Precision and F-score are ill-defined and being set to 0.0 in labels with no predicted samples. Use `zero_division` parameter to control this behavior.\n",
      "  _warn_prf(average, modifier, msg_start, len(result))\n"
     ]
    }
   ],
   "source": [
    "import pandas as pd\n",
    "from sklearn.model_selection import train_test_split\n",
    "from sklearn.ensemble import RandomForestClassifier\n",
    "from sklearn.metrics import accuracy_score, classification_report\n",
    "\n",
    "\n",
    "\n",
    "X = df_complete[['abv', 'ABV', 'Min IBU', 'Max IBU', 'Astringency', 'Body',\n",
    "       'Alcohol', 'Bitter', 'Sweet', 'Sour', 'Salty', 'Fruits', 'Hoppy',\n",
    "       'Spices', 'Malty', 'beer_style']]\n",
    "\n",
    "y = df_complete['hex_color']\n",
    "\n",
    "# Split the data into training and testing sets (e.g., 80% training, 20% testing)\n",
    "X_train, X_test, y_train, y_test = train_test_split(X, y, test_size=0.2, random_state=42)\n",
    "\n",
    "# Create and train a Random Forest Regressor\n",
    "rf_model = RandomForestClassifier(n_estimators=100, random_state=42)\n",
    "rf_model.fit(X_train, y_train)\n",
    "\n",
    "# Make predictions on the testing set\n",
    "y_pred = rf_model.predict(X_test)\n",
    "\n",
    "# Evaluate the model's performance\n",
    "accuracy = accuracy_score(y_test, y_pred)\n",
    "classification_report_str = classification_report(y_test, y_pred)\n",
    "\n",
    "\n",
    "print(f\"Accuracy: {accuracy:.2f}\")\n",
    "print(\"Classification Report:\")\n",
    "print(classification_report_str)"
   ]
  },
  {
   "cell_type": "code",
   "execution_count": 206,
   "metadata": {},
   "outputs": [],
   "source": [
    "# Make predictions on the testing set\n",
    "pred_data = rf_model.predict(df_to_apply.drop('hex_color', axis=1))\n",
    "\n",
    "df_final = df_to_apply.drop('hex_color', axis=1)\n",
    "#df_final = pred_data\n",
    "df_final.insert(1, \"hex_color\", pred_data)"
   ]
  },
  {
   "cell_type": "code",
   "execution_count": 212,
   "metadata": {},
   "outputs": [
    {
     "data": {
      "text/plain": [
       "0         0\n",
       "1         0\n",
       "2         1\n",
       "3         2\n",
       "4         3\n",
       "         ..\n",
       "27561     3\n",
       "27562    18\n",
       "27563    66\n",
       "27564    32\n",
       "27565    17\n",
       "Name: beer_style, Length: 23862, dtype: int64"
      ]
     },
     "execution_count": 212,
     "metadata": {},
     "output_type": "execute_result"
    }
   ],
   "source": [
    "df_final.beer_style"
   ]
  },
  {
   "cell_type": "code",
   "execution_count": 193,
   "metadata": {},
   "outputs": [],
   "source": [
    "df_final.to_csv('./data/dataset_with_colors.csv')"
   ]
  },
  {
   "cell_type": "markdown",
   "metadata": {},
   "source": [
    "## TRASH"
   ]
  },
  {
   "cell_type": "code",
   "execution_count": 8,
   "metadata": {},
   "outputs": [],
   "source": [
    "# Define a simple neural network model using PyTorch\n",
    "class HexColorPredictor(nn.Module):\n",
    "    def __init__(self, input_dim, hidden_dim, output_dim):\n",
    "        super(HexColorPredictor, self).__init__()\n",
    "        self.fc1 = nn.Linear(input_dim, hidden_dim) # first fully connected (linear) layer\n",
    "        self.relu = nn.ReLU() # Rectified Linear Unit (ReLU) activation function, applies element-wise rectification to its input\n",
    "        self.fc2 = nn.Linear(hidden_dim, output_dim) # second fully connected (linear) layer, works with output of first layer\n",
    "\n",
    "    def forward(self, x):\n",
    "        '''\n",
    "        * Defines the forward pass of the neural network. \n",
    "        * Specifies how the input data x is processed through the layers defined in the constructor\n",
    "        * 1. Input passed through 1st FFL\n",
    "        * 2. Output of previous operation passed through ReLU\n",
    "        * 3. Output of previous operation passed through 2nd FFL\n",
    "        '''\n",
    "        x = self.fc1(x)\n",
    "        x = self.relu(x)\n",
    "        x = self.fc2(x)\n",
    "        return x"
   ]
  },
  {
   "cell_type": "code",
   "execution_count": 9,
   "metadata": {},
   "outputs": [],
   "source": [
    "# Initialize the model\n",
    "input_dim = X_train.shape[1]\n",
    "hidden_dim = 64\n",
    "output_dim = 7  # Hex color is represented by 7 characters\n",
    "model = HexColorPredictor(input_dim, hidden_dim, output_dim)\n",
    "\n",
    "# Define loss function and optimizer\n",
    "criterion = nn.MSELoss()\n",
    "optimizer = optim.Adam(model.parameters(), lr=0.001)"
   ]
  },
  {
   "cell_type": "code",
   "execution_count": null,
   "metadata": {},
   "outputs": [],
   "source": []
  }
 ],
 "metadata": {
  "interpreter": {
   "hash": "b0fa6594d8f4cbf19f97940f81e996739fb7646882a419484c72d19e05852a7e"
  },
  "kernelspec": {
   "display_name": "Python 3.11.5 64-bit",
   "language": "python",
   "name": "python3"
  },
  "language_info": {
   "codemirror_mode": {
    "name": "ipython",
    "version": 3
   },
   "file_extension": ".py",
   "mimetype": "text/x-python",
   "name": "python",
   "nbconvert_exporter": "python",
   "pygments_lexer": "ipython3",
   "version": "3.11.5"
  },
  "orig_nbformat": 4
 },
 "nbformat": 4,
 "nbformat_minor": 2
}
